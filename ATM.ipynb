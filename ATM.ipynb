{
 "cells": [
  {
   "cell_type": "markdown",
   "id": "996666e1-6c69-4896-961b-576b21ebfdc8",
   "metadata": {},
   "source": [
    "ATM\n",
    "Input number คือ จำนวนผู้ที่กด\n",
    "ให้นักศศึกษาเขียนโปรแกรมสำหรับการรับการกดเินแบบระบุจำนวนของตู้ ATM\n",
    "เช่น\n",
    "onput number =2700\n",
    "1000 : 2\n",
    "500 : 1\n",
    "100 : 2\n",
    "โดยกำหนดให้ ATM พิจารณาจากแบงค์ที่มีมูลค่าสูงสุด เสมอ !!!\n"
   ]
  },
  {
   "cell_type": "code",
   "execution_count": 1,
   "id": "6a872f84-1865-443b-a3fb-ecfb33b17e4f",
   "metadata": {},
   "outputs": [
    {
     "name": "stdin",
     "output_type": "stream",
     "text": [
      "Please enter amount :  2700\n"
     ]
    },
    {
     "name": "stdout",
     "output_type": "stream",
     "text": [
      "1000 : 2\n",
      "500 : 1\n",
      "100 : 2\n"
     ]
    }
   ],
   "source": [
    "money = int(input('Please enter amount : '))\n",
    "for i in (1000,500,100):\n",
    "    print(f'{i} : {(money) // i}')\n",
    "    money %= i"
   ]
  },
  {
   "cell_type": "code",
   "execution_count": null,
   "id": "74c4c413-fcb1-4891-b1c1-0792e5205752",
   "metadata": {},
   "outputs": [],
   "source": []
  }
 ],
 "metadata": {
  "kernelspec": {
   "display_name": "Python 3 (ipykernel)",
   "language": "python",
   "name": "python3"
  },
  "language_info": {
   "codemirror_mode": {
    "name": "ipython",
    "version": 3
   },
   "file_extension": ".py",
   "mimetype": "text/x-python",
   "name": "python",
   "nbconvert_exporter": "python",
   "pygments_lexer": "ipython3",
   "version": "3.9.13"
  }
 },
 "nbformat": 4,
 "nbformat_minor": 5
}
