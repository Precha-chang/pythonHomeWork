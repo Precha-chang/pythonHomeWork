{
 "cells": [
  {
   "cell_type": "markdown",
   "id": "29ed6c9b-8668-4d00-a052-a341e18ad7bb",
   "metadata": {},
   "source": [
    "นายปรีชา ไชยนะรา 6512732106"
   ]
  },
  {
   "cell_type": "markdown",
   "id": "643c9728-ca07-4792-8e3c-1b62f9e7aced",
   "metadata": {
    "tags": []
   },
   "source": [
    "### ใบงานที่ 1 : การส่งการบ้านผ่าน Git"
   ]
  },
  {
   "cell_type": "raw",
   "id": "1f5e3193-b3a7-4b8d-bb0b-b263c817b51d",
   "metadata": {},
   "source": [
    "นายปรีชา ไชยนะรา 6512732106"
   ]
  },
  {
   "cell_type": "code",
   "execution_count": 9,
   "id": "082b85f3-d649-4fe7-a00e-2cb5ee85cacd",
   "metadata": {},
   "outputs": [
    {
     "name": "stdout",
     "output_type": "stream",
     "text": [
      "Hello, World!\n"
     ]
    }
   ],
   "source": [
    "print (\"Hello, World!\")"
   ]
  },
  {
   "cell_type": "code",
   "execution_count": null,
   "id": "59955800-c4bd-4109-806b-4c2e3dea02d9",
   "metadata": {},
   "outputs": [],
   "source": []
  }
 ],
 "metadata": {
  "kernelspec": {
   "display_name": "Python 3 (ipykernel)",
   "language": "python",
   "name": "python3"
  },
  "language_info": {
   "codemirror_mode": {
    "name": "ipython",
    "version": 3
   },
   "file_extension": ".py",
   "mimetype": "text/x-python",
   "name": "python",
   "nbconvert_exporter": "python",
   "pygments_lexer": "ipython3",
   "version": "3.9.13"
  }
 },
 "nbformat": 4,
 "nbformat_minor": 5
}
